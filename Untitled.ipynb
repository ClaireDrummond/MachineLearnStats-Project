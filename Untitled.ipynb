{
 "cells": [
  {
   "cell_type": "markdown",
   "metadata": {},
   "source": [
    "# Higher Diploma in Science in Computing (Data Analytics): Machine Learning & Statistics\n",
    "\n",
    "## An Analysis of the Boston House Price Data Set"
   ]
  },
  {
   "cell_type": "markdown",
   "metadata": {},
   "source": [
    "- Describe: Good summary of the dataset, repository well laid-out and organised. Reasonable commits to the repository.\n",
    "- Infer: Appropriate analysis of the relationship between the median house price and whether the house borders the river, with good explanations of the analysis.\n",
    "- Predict: Well-trained neural network providing decent predictions of house prices based on the other variables. Good explanations of how to use the neural network and how it works."
   ]
  },
  {
   "cell_type": "code",
   "execution_count": null,
   "metadata": {},
   "outputs": [],
   "source": []
  }
 ],
 "metadata": {
  "kernelspec": {
   "display_name": "Python 3",
   "language": "python",
   "name": "python3"
  },
  "language_info": {
   "codemirror_mode": {
    "name": "ipython",
    "version": 3
   },
   "file_extension": ".py",
   "mimetype": "text/x-python",
   "name": "python",
   "nbconvert_exporter": "python",
   "pygments_lexer": "ipython3",
   "version": "3.7.3"
  }
 },
 "nbformat": 4,
 "nbformat_minor": 2
}
